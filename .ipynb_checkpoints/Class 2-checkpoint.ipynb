{
 "cells": [
  {
   "cell_type": "code",
   "execution_count": 6,
   "id": "edcca811",
   "metadata": {},
   "outputs": [],
   "source": [
    "class Stack:\n",
    "    def __init__(self):\n",
    "        self.items = []\n",
    "        \n",
    "    def push(self, item):\n",
    "        self.items.append(item)\n",
    "        \n",
    "    def pop(self):\n",
    "        return self.items.pop()\n",
    "    \n",
    "    def is_empty(self):\n",
    "        return self.items == []\n",
    "    \n",
    "    def peek(self):\n",
    "        return self.items[len(self.items)-1]\n",
    "    \n",
    "    def size(self):\n",
    "        return len(self.items)"
   ]
  },
  {
   "cell_type": "markdown",
   "id": "1967533e",
   "metadata": {},
   "source": [
    "### Mini Challenge Stack Reversal\n",
    "### Use a stack to reverse a collection if said collection is fed to the stack in sequence\n",
    "\n",
    "```\n",
    "Test Cases\n",
    "    assert reverse_str(['a','b','c','d']) == ['d','c','b','a',]\n",
    "    assert reverse_str(['1','2','3','4']) == ['4','3','2','1',]\n",
    "```"
   ]
  },
  {
   "cell_type": "code",
   "execution_count": 14,
   "id": "52da868f",
   "metadata": {},
   "outputs": [],
   "source": [
    "def reverse_collection(collection):\n",
    "    stack = Stack()\n",
    "    my_list = []\n",
    "    for element in collection:\n",
    "        stack.push(element)\n",
    "    while not stack.is_empty():\n",
    "        retrieved_element = stack.pop()\n",
    "        my_list.append(retrieved_element)\n",
    "    return my_list\n",
    "    "
   ]
  },
  {
   "cell_type": "code",
   "execution_count": 15,
   "id": "281201b7",
   "metadata": {},
   "outputs": [],
   "source": [
    "assert reverse_collection(['a','b','c','d']) == ['d','c','b','a',]\n",
    "assert reverse_collection(['1','2','3','4']) == ['4','3','2','1',]"
   ]
  },
  {
   "cell_type": "code",
   "execution_count": 29,
   "id": "08459fda",
   "metadata": {},
   "outputs": [],
   "source": [
    "class Queue:\n",
    "    def __init__(self):\n",
    "        self.items = []\n",
    "        \n",
    "    def enqueue(self, item):\n",
    "        self.items.insert(0, item)\n",
    "        \n",
    "    def dequeue(self):\n",
    "        return self.items.pop()\n",
    "    \n",
    "    def is_empty(self):\n",
    "        return self.items == []\n",
    "    \n",
    "    def size(self):\n",
    "        return len(self.items)\n",
    "        \n",
    "        "
   ]
  },
  {
   "cell_type": "code",
   "execution_count": 38,
   "id": "6e1bb40d",
   "metadata": {},
   "outputs": [],
   "source": [
    "import time\n",
    "\n",
    "# example of using queue:\n",
    "\n",
    "# recursive fib function:\n",
    "def fib(num):\n",
    "    if num < 2:\n",
    "        return num\n",
    "    return fib(num-1) + fib(num-2)\n",
    "\n",
    "def process_fib(collection):\n",
    "    queue = Queue()\n",
    "    out_list = []\n",
    "    for element in collection:\n",
    "        queue.enqueue(element)\n",
    "    while not queue.is_empty():\n",
    "        number = queue.dequeue()\n",
    "        start_time = time.perf_counter()\n",
    "        fib_no = fib(number)\n",
    "        end_time = time.perf_counter()\n",
    "        total_time = end_time - start_time\n",
    "        print(\"Fibonacci %s is: %s\" % (number, fib_no))\n",
    "        print(\"Calculations took: %.5f seconds.\" % total_time)\n",
    "        out_list = fib_no\n",
    "    return out_list"
   ]
  },
  {
   "cell_type": "code",
   "execution_count": 39,
   "id": "fbd7167f",
   "metadata": {},
   "outputs": [
    {
     "name": "stdout",
     "output_type": "stream",
     "text": [
      "Fibonacci 0 is: 0\n",
      "Calculations took: 0.00000 seconds.\n",
      "Fibonacci 1 is: 1\n",
      "Calculations took: 0.00000 seconds.\n",
      "Fibonacci 2 is: 1\n",
      "Calculations took: 0.00000 seconds.\n",
      "Fibonacci 3 is: 2\n",
      "Calculations took: 0.00000 seconds.\n",
      "Fibonacci 4 is: 3\n",
      "Calculations took: 0.00000 seconds.\n",
      "Fibonacci 5 is: 5\n",
      "Calculations took: 0.00000 seconds.\n",
      "Fibonacci 6 is: 8\n",
      "Calculations took: 0.00000 seconds.\n"
     ]
    },
    {
     "data": {
      "text/plain": [
       "8"
      ]
     },
     "execution_count": 39,
     "metadata": {},
     "output_type": "execute_result"
    }
   ],
   "source": [
    "process_fib([0, 1, 2, 3, 4, 5, 6])"
   ]
  },
  {
   "cell_type": "code",
   "execution_count": null,
   "id": "28fa33e8",
   "metadata": {},
   "outputs": [],
   "source": []
  }
 ],
 "metadata": {
  "kernelspec": {
   "display_name": "Python 3 (ipykernel)",
   "language": "python",
   "name": "python3"
  },
  "language_info": {
   "codemirror_mode": {
    "name": "ipython",
    "version": 3
   },
   "file_extension": ".py",
   "mimetype": "text/x-python",
   "name": "python",
   "nbconvert_exporter": "python",
   "pygments_lexer": "ipython3",
   "version": "3.10.4"
  }
 },
 "nbformat": 4,
 "nbformat_minor": 5
}
