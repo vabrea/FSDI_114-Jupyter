{
 "cells": [
  {
   "cell_type": "code",
   "execution_count": 2,
   "id": "9a1cf1be",
   "metadata": {
    "scrolled": true
   },
   "outputs": [
    {
     "name": "stdout",
     "output_type": "stream",
     "text": [
      "h\n",
      "e\n",
      "l\n",
      "l\n",
      "o\n",
      " \n",
      "w\n",
      "o\n",
      "r\n",
      "l\n",
      "d\n"
     ]
    }
   ],
   "source": [
    "for letter in \"hello world\":\n",
    "    print(letter)"
   ]
  },
  {
   "cell_type": "markdown",
   "id": "ef324753",
   "metadata": {},
   "source": [
    "# This is an example\n",
    "### of some markdown\n",
    "\n",
    "1. Test\n",
    "2. Test\n",
    "3. Test\n",
    "\n",
    ">Hello, World!\n",
    "\n",
    "`a line of code.`\n",
    "\n",
    "```\n",
    "Multiple\n",
    "lines\n",
    "of code\n",
    "```"
   ]
  },
  {
   "cell_type": "markdown",
   "id": "8c6634dd",
   "metadata": {},
   "source": [
    "# Problem 1\n",
    "### Given two strings (string_a and string_b) let's check where or not they are anagrams of each other given the following:\n",
    "\n",
    "> Two strings are only anagrams if all conditions below are met:\n",
    "> * They must be exactly the same length\n",
    "> * They must use exactly the same characters (no more, no less)\n",
    "\n",
    "`Examples: cars and scar, heart and earth, etc`\n",
    "\n",
    "\n",
    "```\n",
    "assert are_anagrams(\"cars\", \"scar\") == True\n",
    "assert are_anagrams(\"hear\", \"earth\") == True\n",
    "assert are_anagrams(\"caars\", \"scar\") == False\n",
    "assert are_anagrams(\"rats\", \"sttr\") == False\n",
    "```"
   ]
  },
  {
   "cell_type": "code",
   "execution_count": 36,
   "id": "018c3e54",
   "metadata": {},
   "outputs": [
    {
     "name": "stdout",
     "output_type": "stream",
     "text": [
      "The words I am Lord Voldemort and Tom Marvolo Riddle are anagrams\n"
     ]
    }
   ],
   "source": [
    "word_a = \"I am Lord Voldemort\"\n",
    "word_b = \"Tom Marvolo Riddle\"\n",
    "\n",
    "\n",
    "# def are_anagrams(string_a):\n",
    "#     for i in range(0, len(string_a)-1):\n",
    "#         for x in range(i+1, len(string_a)):\n",
    "#             if string_a[i] > string_a[x]:\n",
    "#                 sort = string_a[i]\n",
    "#                 string_a[i] = string_a[x]\n",
    "#                 string_a[x] = sort\n",
    "#             return string_a\n",
    "            \n",
    "    \n",
    "# print(are_anagrams(list(word_a)))\n",
    "# print(are_anagrams(list(word_b)))\n",
    "\n",
    "def are_anagrams(string_a):\n",
    "    lst = [string_a[i] for i in range(0, len(string_a))]\n",
    "    lst.sort()\n",
    "    for i in lst:\n",
    "        return \n",
    "        \n",
    "    \n",
    "if are_anagrams(word_a) == are_anagrams(word_b):\n",
    "    print(f\"The words {word_a} and {word_b} are anagrams\")"
   ]
  },
  {
   "cell_type": "markdown",
   "id": "ce1b821a",
   "metadata": {},
   "source": [
    "### Notes\n",
    "> If length of string_a == length of string_b\n",
    "`if len(string_a) != len(string_b)`\n",
    "`    if len(string_a) != len(string_b):\n",
    "        return False`\n",
    "\n",
    "# Problem extension\n",
    "### In HP series, the villain \"Voldemort\" chose this name because the phrase \"I am Lord Voldemort\" is an anagram of \"Tom Marvolo Riddle\",\n",
    "> Given our solution above, ipdate the function's code to ensure that given these two parameters, our function returns True.\n",
    "\n",
    "```\n",
    "asset are_anagrams(\"I am Lord Voldemort\", \"Tom Marvolo Riddle\")\n",
    "```"
   ]
  },
  {
   "cell_type": "code",
   "execution_count": null,
   "id": "dea914c9",
   "metadata": {},
   "outputs": [],
   "source": []
  },
  {
   "cell_type": "code",
   "execution_count": null,
   "id": "e12b9985",
   "metadata": {},
   "outputs": [],
   "source": []
  }
 ],
 "metadata": {
  "kernelspec": {
   "display_name": "Python 3 (ipykernel)",
   "language": "python",
   "name": "python3"
  },
  "language_info": {
   "codemirror_mode": {
    "name": "ipython",
    "version": 3
   },
   "file_extension": ".py",
   "mimetype": "text/x-python",
   "name": "python",
   "nbconvert_exporter": "python",
   "pygments_lexer": "ipython3",
   "version": "3.10.4"
  }
 },
 "nbformat": 4,
 "nbformat_minor": 5
}
