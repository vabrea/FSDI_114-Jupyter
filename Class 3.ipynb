{
 "cells": [
  {
   "cell_type": "code",
   "execution_count": 5,
   "id": "aebf55c7",
   "metadata": {},
   "outputs": [],
   "source": [
    "# In order to create a linked list, we must first define a Node\n",
    "\n",
    "class Node:\n",
    "    def __init__(self, data):\n",
    "        self.data = data\n",
    "        self.next = None"
   ]
  },
  {
   "cell_type": "code",
   "execution_count": 6,
   "id": "26bcaf89",
   "metadata": {},
   "outputs": [
    {
     "name": "stdout",
     "output_type": "stream",
     "text": [
      "1\n",
      "2\n",
      "3\n"
     ]
    }
   ],
   "source": [
    "# Lets first start by createing a very rudimentary singly linked list.\n",
    "\n",
    "# instantiating nodes.\n",
    "node0 = Node(1)\n",
    "node1 = Node(2)\n",
    "node2 = Node(3)\n",
    "\n",
    "# every linked list has to have a \"head\" node.\n",
    "head = node0\n",
    "\n",
    "# head and node0 both reference the same node. we can set its \"next\" selection\n",
    "head.next = node1\n",
    "node1.next = node2\n",
    "\n",
    "# list traversal\n",
    "# traversing requires that we keep a reference to a node every time we\n",
    "# and update it upon each loop by setting it to the next node's address (in memory)\n",
    "current = head\n",
    "while current:\n",
    "    print(current.data)\n",
    "    current = current.next"
   ]
  },
  {
   "cell_type": "code",
   "execution_count": 6,
   "id": "2b2e6adf",
   "metadata": {},
   "outputs": [
    {
     "name": "stdout",
     "output_type": "stream",
     "text": [
      "5\n"
     ]
    }
   ],
   "source": [
    "# pass by value\n",
    "\n",
    "x = 5\n",
    "y = x\n",
    "\n",
    "# because this is passing the value, the following line creates a \"copy\" of the data\n",
    "y = y-2\n",
    "\n",
    "# the original copy is unmodified because only the value was passed to y\n",
    "print(x)\n",
    "\n",
    "# python will pass by value are primitive data types such as int, float, bool, and str"
   ]
  },
  {
   "cell_type": "code",
   "execution_count": 7,
   "id": "8aaaafd7",
   "metadata": {},
   "outputs": [
    {
     "name": "stdout",
     "output_type": "stream",
     "text": [
      "3\n"
     ]
    }
   ],
   "source": [
    "# pass by reference\n",
    "x = Node(5)\n",
    "y = x\n",
    "\n",
    "# because both x and y are pointing to the same Node\n",
    "# modifying y is equivalent to modifying x; there arent 2 nodes here but\n",
    "# a single node being referenced twice.\n",
    "y.data = y.data-2\n",
    "\n",
    "# .. which is why it prints 3.\n",
    "\n",
    "print(x.data)\n",
    "\n",
    "# most if not all objkects (instance of a class) with few exceptions (primitives)\n",
    "# will pass by reference by default"
   ]
  },
  {
   "cell_type": "code",
   "execution_count": 8,
   "id": "5c33daaf",
   "metadata": {},
   "outputs": [
    {
     "name": "stdout",
     "output_type": "stream",
     "text": [
      "[1, 2, 3]\n",
      "4508474240\n"
     ]
    }
   ],
   "source": [
    "mylist = [1,2,3,4]\n",
    "myotherlist = mylist\n",
    "\n",
    "myotherlist.pop()\n",
    "\n",
    "print(mylist)\n",
    "print(id(mylist))"
   ]
  },
  {
   "cell_type": "code",
   "execution_count": 12,
   "id": "e4871579",
   "metadata": {},
   "outputs": [],
   "source": [
    "class SinglyLinkedList:\n",
    "    def __init__(self):\n",
    "        self.head = None               # our SLL class keeps a reference to the head node.\n",
    "        \n",
    "    def append(self, value):\n",
    "        if not self.head:              # we first must check if there is a head node\n",
    "            self.head = Node(value)    #... if not, we create a new one\n",
    "        else:                          # if there is an existing head..\n",
    "            current = self.head        # we begin traversing our list until we find the \"tail\"\n",
    "            while current.next:        # this while loop helps us traverse our list\n",
    "                current = current.next\n",
    "            current.next = Node(value) # finally, when we find the tail Node, we apprend a new Node to is\n",
    "            \n",
    "    def __str__(self):\n",
    "        out = \"[%s\" % self.head.data   # you can (and will) use list traversal to\n",
    "        current = self.head.next       # perform most operations in lists\n",
    "        while current:                 # here is another example in which it helps us build a string\n",
    "            out += \", %s\" % current.data  # representation of our list (similar to python's default list)\n",
    "            current = current.next\n",
    "        out += \"]\"\n",
    "        return out\n",
    "    \n",
    "    def insert(self, index, value):\n",
    "        new_node = Node(value)\n",
    "        counter = 0\n",
    "        current = self.head\n",
    "        if index < counter:\n",
    "            raise IndexError(\"Negative indexes not supported.\")\n",
    "        if index == 0:               # This handles the case where we mean to replace the head\n",
    "            temp_node = self.head\n",
    "            self.head = new_node\n",
    "            self.head.next = temp_node\n",
    "        else:\n",
    "            prev = None\n",
    "            while current.next and counter != index:\n",
    "                prev = current\n",
    "                current = current.next\n",
    "                counter += 1\n",
    "            if index > counter:\n",
    "                current.next = new_node\n",
    "            elif index == counter:\n",
    "                prev.next = new_node\n",
    "                new_node.next = current\n",
    "                \n",
    "#     def remove(self, value):\n",
    "#         # remove head Node\n",
    "#         # first we should store head node in temp\n",
    "#         temp = self.head\n",
    "#         while temp.next\n",
    "#             #if temp == value?\n",
    "#                 temp = self.head.next?\n",
    "#                 self.head.next = next next?\n",
    "#             # removing the middle\n",
    "#                 self.head = self.head.next\n",
    "#                 self.head.next = None\n",
    "#                 None = temp.next?\n",
    "#             # removing the tail\n",
    "#             # if temp.next == None\n",
    "#                 self.head = self.head.next\n",
    "#                 self.head.next = None\n",
    "           \n",
    "    def remove(self,value):\n",
    "        if self.head.data == value:\n",
    "            self.head = self.head.next\n",
    "        else:\n",
    "            current = self.head\n",
    "            while current.next and current.data != value:\n",
    "                prev = current\n",
    "                current = current.next\n",
    "            if current.data == value:\n",
    "                prev.next = current.next\n",
    "            else:\n",
    "                raise ValueError(\"%s is not in the list\" % value)\n",
    "\n",
    "        \n",
    "            \n",
    "        \n",
    "\n",
    "            "
   ]
  },
  {
   "cell_type": "code",
   "execution_count": 13,
   "id": "170deeee",
   "metadata": {},
   "outputs": [
    {
     "name": "stdout",
     "output_type": "stream",
     "text": [
      "Our list after replacing the head:\n",
      "[-1, 0, 1, 2, 3, 4]\n",
      "Our list after inserting before index 2:\n",
      "[-1, 0, 0.5, 1, 2, 3, 4]\n",
      "Our list after inserting before an index that is larger than our list:\n",
      "[-1, 0, 0.5, 1, 2, 3, 4, 5]\n",
      "What happens if you try to give our insert medthod a negative index\n",
      "Exception Message: \n",
      "Negative indexes not supported.\n",
      "removing from the list\n",
      "[-1, 0, 0.5, 1, 3, 4, 5]\n"
     ]
    }
   ],
   "source": [
    "sll = SinglyLinkedList()\n",
    "for i in range(5):\n",
    "    sll.append(i)\n",
    "    \n",
    "# current = sll.head\n",
    "# for i in range(5):\n",
    "#     print(current.data)\n",
    "#     current = current.next\n",
    "\n",
    "# print(sll)\n",
    "\n",
    "print(\"Our list after replacing the head:\")\n",
    "sll.insert(0,-1)\n",
    "print(sll)\n",
    "print (\"Our list after inserting before index 2:\")\n",
    "sll.insert(2, 0.5)\n",
    "print(sll)\n",
    "print(\"Our list after inserting before an index that is larger than our list:\")\n",
    "sll.insert(1000, 5)\n",
    "print(sll)\n",
    "print(\"What happens if you try to give our insert medthod a negative index\")\n",
    "try:\n",
    "    sll.insert(-1, \"X\")\n",
    "except IndexError as e:\n",
    "    print(\"Exception Message: \")\n",
    "    print(e)\n",
    "\n",
    "print(\"removing from the list\")\n",
    "sll.remove(2)\n",
    "print(sll)"
   ]
  },
  {
   "cell_type": "code",
   "execution_count": 59,
   "id": "26a5dcb3",
   "metadata": {
    "scrolled": false
   },
   "outputs": [],
   "source": [
    "# print(help(list))"
   ]
  },
  {
   "cell_type": "markdown",
   "id": "303a1192",
   "metadata": {},
   "source": [
    "### Homework: Implement the \"remove\" method\n",
    "### 1. Remove the head of the list while preserving the rest of it, of course\n",
    "### 2. Remove anywhere between the head and the tail\n",
    "### 3. Remove the tail of our list"
   ]
  }
 ],
 "metadata": {
  "kernelspec": {
   "display_name": "Python 3 (ipykernel)",
   "language": "python",
   "name": "python3"
  },
  "language_info": {
   "codemirror_mode": {
    "name": "ipython",
    "version": 3
   },
   "file_extension": ".py",
   "mimetype": "text/x-python",
   "name": "python",
   "nbconvert_exporter": "python",
   "pygments_lexer": "ipython3",
   "version": "3.10.4"
  }
 },
 "nbformat": 4,
 "nbformat_minor": 5
}
